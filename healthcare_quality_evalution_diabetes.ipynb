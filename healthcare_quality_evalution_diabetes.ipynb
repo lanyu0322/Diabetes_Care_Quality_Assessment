{
  "nbformat": 4,
  "nbformat_minor": 0,
  "metadata": {
    "colab": {
      "provenance": [],
      "toc_visible": true,
      "include_colab_link": true
    },
    "kernelspec": {
      "display_name": "Python 3",
      "name": "python3"
    }
  },
  "cells": [
    {
      "cell_type": "markdown",
      "metadata": {
        "id": "view-in-github",
        "colab_type": "text"
      },
      "source": [
        "<a href=\"https://colab.research.google.com/github/lanyu0322/Diabetes_Care_Quality_Assessment/blob/main/healthcare_quality_evalution_diabetes.ipynb\" target=\"_parent\"><img src=\"https://colab.research.google.com/assets/colab-badge.svg\" alt=\"Open In Colab\"/></a>"
      ]
    },
    {
      "cell_type": "code",
      "metadata": {
        "colab": {
          "base_uri": "https://localhost:8080/"
        },
        "id": "JjFbHQytkvrv",
        "outputId": "1085d3ba-3a43-40c5-be3d-569a4897aa4e"
      },
      "source": [
        "from google.colab import drive\n",
        "drive.mount(\"/content/drive\")"
      ],
      "execution_count": null,
      "outputs": [
        {
          "output_type": "stream",
          "name": "stdout",
          "text": [
            "Drive already mounted at /content/drive; to attempt to forcibly remount, call drive.mount(\"/content/drive\", force_remount=True).\n"
          ]
        }
      ]
    },
    {
      "cell_type": "code",
      "metadata": {
        "colab": {
          "base_uri": "https://localhost:8080/"
        },
        "id": "UmQOV4v7lKA2",
        "outputId": "61d06f83-0ecc-4abe-99df-c1bb3cfc115c"
      },
      "source": [
        "cd /content/drive/My Drive/medicare_projects"
      ],
      "execution_count": null,
      "outputs": [
        {
          "output_type": "stream",
          "name": "stdout",
          "text": [
            "/content/drive/My Drive/medicare_projects\n"
          ]
        }
      ]
    },
    {
      "cell_type": "markdown",
      "source": [
        "research goal: The phenomenon of patients being rehospitalized shortly after their initial discharge, particularly in cases of diabetes, has significant implications for healthcare quality and cost management. This issue has prompted initiatives like those from the Centers for Medicare & Medicaid Services, who seek to mitigate healthcare expenses and enhance care quality by penalizing hospitals with unexpectedly high readmission rates for certain medical conditions. Despite diabetes not being a current focus for these penalties, its financial burden is notable; in 2011, the cost attributed to the readmission of diabetic patients within a 30-day period post-discharge was over $41 billion in the U.S. Understanding the factors that contribute to these readmissions is crucial for reducing costs and improving patient outcomes. Our analysis, leveraging a dataset of medical claims, aims to uncover:\n",
        "\n",
        "The primary factors that influence the likelihood of diabetic patients being readmitted to the hospital.\n",
        "The potential for accurately forecasting such readmissions in diabetic cases based on a dataset with a limited range of features."
      ],
      "metadata": {
        "id": "cUUGrjyru05g"
      }
    },
    {
      "cell_type": "code",
      "metadata": {
        "id": "yZQAIbwGlC0o"
      },
      "source": [
        "import pandas as pd\n",
        "import numpy as np\n",
        "import seaborn as sns\n",
        "import matplotlib.pyplot as plt\n",
        "from sklearn.preprocessing import StandardScaler\n",
        "from sklearn.neighbors import KNeighborsClassifier\n",
        "from sklearn.metrics import accuracy_score\n",
        "from sklearn.ensemble import RandomForestClassifier\n",
        "from sklearn.model_selection import train_test_split, GridSearchCV\n",
        "from sklearn.linear_model import LogisticRegression\n",
        "from sklearn.metrics import accuracy_score, classification_report, confusion_matrix"
      ],
      "execution_count": null,
      "outputs": []
    },
    {
      "cell_type": "code",
      "metadata": {
        "id": "PLDRqfdEfczv"
      },
      "source": [
        "\n",
        "plt.rcParams[\"figure.figsize\"] = (15, 10)\n"
      ],
      "execution_count": null,
      "outputs": []
    },
    {
      "cell_type": "markdown",
      "source": [
        "# get an overview of the data\n"
      ],
      "metadata": {
        "id": "FnyS4oaOwENT"
      }
    },
    {
      "cell_type": "code",
      "source": [
        "# -- loading Dataset\n",
        "dia = pd.read_csv(\"diabetic_data.csv\")\n",
        "dia.head()"
      ],
      "metadata": {
        "colab": {
          "base_uri": "https://localhost:8080/",
          "height": 359
        },
        "id": "eIPxHB0-vVWF",
        "outputId": "6a951198-9263-4d6a-ec9e-0ad260162902"
      },
      "execution_count": null,
      "outputs": [
        {
          "output_type": "execute_result",
          "data": {
            "text/plain": [
              "   encounter_id  patient_nbr             race  gender      age weight  \\\n",
              "0       2278392      8222157        Caucasian  Female   [0-10)      ?   \n",
              "1        149190     55629189        Caucasian  Female  [10-20)      ?   \n",
              "2         64410     86047875  AfricanAmerican  Female  [20-30)      ?   \n",
              "3        500364     82442376        Caucasian    Male  [30-40)      ?   \n",
              "4         16680     42519267        Caucasian    Male  [40-50)      ?   \n",
              "\n",
              "   admission_type_id  discharge_disposition_id  admission_source_id  \\\n",
              "0                  6                        25                    1   \n",
              "1                  1                         1                    7   \n",
              "2                  1                         1                    7   \n",
              "3                  1                         1                    7   \n",
              "4                  1                         1                    7   \n",
              "\n",
              "   time_in_hospital  ... citoglipton insulin  glyburide-metformin  \\\n",
              "0                 1  ...          No      No                   No   \n",
              "1                 3  ...          No      Up                   No   \n",
              "2                 2  ...          No      No                   No   \n",
              "3                 2  ...          No      Up                   No   \n",
              "4                 1  ...          No  Steady                   No   \n",
              "\n",
              "   glipizide-metformin  glimepiride-pioglitazone  metformin-rosiglitazone  \\\n",
              "0                   No                        No                       No   \n",
              "1                   No                        No                       No   \n",
              "2                   No                        No                       No   \n",
              "3                   No                        No                       No   \n",
              "4                   No                        No                       No   \n",
              "\n",
              "   metformin-pioglitazone  change diabetesMed readmitted  \n",
              "0                      No      No          No         NO  \n",
              "1                      No      Ch         Yes        >30  \n",
              "2                      No      No         Yes         NO  \n",
              "3                      No      Ch         Yes         NO  \n",
              "4                      No      Ch         Yes         NO  \n",
              "\n",
              "[5 rows x 50 columns]"
            ],
            "text/html": [
              "\n",
              "  <div id=\"df-3f53e14f-e6d0-4036-9ec6-b41487ea2d5f\" class=\"colab-df-container\">\n",
              "    <div>\n",
              "<style scoped>\n",
              "    .dataframe tbody tr th:only-of-type {\n",
              "        vertical-align: middle;\n",
              "    }\n",
              "\n",
              "    .dataframe tbody tr th {\n",
              "        vertical-align: top;\n",
              "    }\n",
              "\n",
              "    .dataframe thead th {\n",
              "        text-align: right;\n",
              "    }\n",
              "</style>\n",
              "<table border=\"1\" class=\"dataframe\">\n",
              "  <thead>\n",
              "    <tr style=\"text-align: right;\">\n",
              "      <th></th>\n",
              "      <th>encounter_id</th>\n",
              "      <th>patient_nbr</th>\n",
              "      <th>race</th>\n",
              "      <th>gender</th>\n",
              "      <th>age</th>\n",
              "      <th>weight</th>\n",
              "      <th>admission_type_id</th>\n",
              "      <th>discharge_disposition_id</th>\n",
              "      <th>admission_source_id</th>\n",
              "      <th>time_in_hospital</th>\n",
              "      <th>...</th>\n",
              "      <th>citoglipton</th>\n",
              "      <th>insulin</th>\n",
              "      <th>glyburide-metformin</th>\n",
              "      <th>glipizide-metformin</th>\n",
              "      <th>glimepiride-pioglitazone</th>\n",
              "      <th>metformin-rosiglitazone</th>\n",
              "      <th>metformin-pioglitazone</th>\n",
              "      <th>change</th>\n",
              "      <th>diabetesMed</th>\n",
              "      <th>readmitted</th>\n",
              "    </tr>\n",
              "  </thead>\n",
              "  <tbody>\n",
              "    <tr>\n",
              "      <th>0</th>\n",
              "      <td>2278392</td>\n",
              "      <td>8222157</td>\n",
              "      <td>Caucasian</td>\n",
              "      <td>Female</td>\n",
              "      <td>[0-10)</td>\n",
              "      <td>?</td>\n",
              "      <td>6</td>\n",
              "      <td>25</td>\n",
              "      <td>1</td>\n",
              "      <td>1</td>\n",
              "      <td>...</td>\n",
              "      <td>No</td>\n",
              "      <td>No</td>\n",
              "      <td>No</td>\n",
              "      <td>No</td>\n",
              "      <td>No</td>\n",
              "      <td>No</td>\n",
              "      <td>No</td>\n",
              "      <td>No</td>\n",
              "      <td>No</td>\n",
              "      <td>NO</td>\n",
              "    </tr>\n",
              "    <tr>\n",
              "      <th>1</th>\n",
              "      <td>149190</td>\n",
              "      <td>55629189</td>\n",
              "      <td>Caucasian</td>\n",
              "      <td>Female</td>\n",
              "      <td>[10-20)</td>\n",
              "      <td>?</td>\n",
              "      <td>1</td>\n",
              "      <td>1</td>\n",
              "      <td>7</td>\n",
              "      <td>3</td>\n",
              "      <td>...</td>\n",
              "      <td>No</td>\n",
              "      <td>Up</td>\n",
              "      <td>No</td>\n",
              "      <td>No</td>\n",
              "      <td>No</td>\n",
              "      <td>No</td>\n",
              "      <td>No</td>\n",
              "      <td>Ch</td>\n",
              "      <td>Yes</td>\n",
              "      <td>&gt;30</td>\n",
              "    </tr>\n",
              "    <tr>\n",
              "      <th>2</th>\n",
              "      <td>64410</td>\n",
              "      <td>86047875</td>\n",
              "      <td>AfricanAmerican</td>\n",
              "      <td>Female</td>\n",
              "      <td>[20-30)</td>\n",
              "      <td>?</td>\n",
              "      <td>1</td>\n",
              "      <td>1</td>\n",
              "      <td>7</td>\n",
              "      <td>2</td>\n",
              "      <td>...</td>\n",
              "      <td>No</td>\n",
              "      <td>No</td>\n",
              "      <td>No</td>\n",
              "      <td>No</td>\n",
              "      <td>No</td>\n",
              "      <td>No</td>\n",
              "      <td>No</td>\n",
              "      <td>No</td>\n",
              "      <td>Yes</td>\n",
              "      <td>NO</td>\n",
              "    </tr>\n",
              "    <tr>\n",
              "      <th>3</th>\n",
              "      <td>500364</td>\n",
              "      <td>82442376</td>\n",
              "      <td>Caucasian</td>\n",
              "      <td>Male</td>\n",
              "      <td>[30-40)</td>\n",
              "      <td>?</td>\n",
              "      <td>1</td>\n",
              "      <td>1</td>\n",
              "      <td>7</td>\n",
              "      <td>2</td>\n",
              "      <td>...</td>\n",
              "      <td>No</td>\n",
              "      <td>Up</td>\n",
              "      <td>No</td>\n",
              "      <td>No</td>\n",
              "      <td>No</td>\n",
              "      <td>No</td>\n",
              "      <td>No</td>\n",
              "      <td>Ch</td>\n",
              "      <td>Yes</td>\n",
              "      <td>NO</td>\n",
              "    </tr>\n",
              "    <tr>\n",
              "      <th>4</th>\n",
              "      <td>16680</td>\n",
              "      <td>42519267</td>\n",
              "      <td>Caucasian</td>\n",
              "      <td>Male</td>\n",
              "      <td>[40-50)</td>\n",
              "      <td>?</td>\n",
              "      <td>1</td>\n",
              "      <td>1</td>\n",
              "      <td>7</td>\n",
              "      <td>1</td>\n",
              "      <td>...</td>\n",
              "      <td>No</td>\n",
              "      <td>Steady</td>\n",
              "      <td>No</td>\n",
              "      <td>No</td>\n",
              "      <td>No</td>\n",
              "      <td>No</td>\n",
              "      <td>No</td>\n",
              "      <td>Ch</td>\n",
              "      <td>Yes</td>\n",
              "      <td>NO</td>\n",
              "    </tr>\n",
              "  </tbody>\n",
              "</table>\n",
              "<p>5 rows × 50 columns</p>\n",
              "</div>\n",
              "    <div class=\"colab-df-buttons\">\n",
              "\n",
              "  <div class=\"colab-df-container\">\n",
              "    <button class=\"colab-df-convert\" onclick=\"convertToInteractive('df-3f53e14f-e6d0-4036-9ec6-b41487ea2d5f')\"\n",
              "            title=\"Convert this dataframe to an interactive table.\"\n",
              "            style=\"display:none;\">\n",
              "\n",
              "  <svg xmlns=\"http://www.w3.org/2000/svg\" height=\"24px\" viewBox=\"0 -960 960 960\">\n",
              "    <path d=\"M120-120v-720h720v720H120Zm60-500h600v-160H180v160Zm220 220h160v-160H400v160Zm0 220h160v-160H400v160ZM180-400h160v-160H180v160Zm440 0h160v-160H620v160ZM180-180h160v-160H180v160Zm440 0h160v-160H620v160Z\"/>\n",
              "  </svg>\n",
              "    </button>\n",
              "\n",
              "  <style>\n",
              "    .colab-df-container {\n",
              "      display:flex;\n",
              "      gap: 12px;\n",
              "    }\n",
              "\n",
              "    .colab-df-convert {\n",
              "      background-color: #E8F0FE;\n",
              "      border: none;\n",
              "      border-radius: 50%;\n",
              "      cursor: pointer;\n",
              "      display: none;\n",
              "      fill: #1967D2;\n",
              "      height: 32px;\n",
              "      padding: 0 0 0 0;\n",
              "      width: 32px;\n",
              "    }\n",
              "\n",
              "    .colab-df-convert:hover {\n",
              "      background-color: #E2EBFA;\n",
              "      box-shadow: 0px 1px 2px rgba(60, 64, 67, 0.3), 0px 1px 3px 1px rgba(60, 64, 67, 0.15);\n",
              "      fill: #174EA6;\n",
              "    }\n",
              "\n",
              "    .colab-df-buttons div {\n",
              "      margin-bottom: 4px;\n",
              "    }\n",
              "\n",
              "    [theme=dark] .colab-df-convert {\n",
              "      background-color: #3B4455;\n",
              "      fill: #D2E3FC;\n",
              "    }\n",
              "\n",
              "    [theme=dark] .colab-df-convert:hover {\n",
              "      background-color: #434B5C;\n",
              "      box-shadow: 0px 1px 3px 1px rgba(0, 0, 0, 0.15);\n",
              "      filter: drop-shadow(0px 1px 2px rgba(0, 0, 0, 0.3));\n",
              "      fill: #FFFFFF;\n",
              "    }\n",
              "  </style>\n",
              "\n",
              "    <script>\n",
              "      const buttonEl =\n",
              "        document.querySelector('#df-3f53e14f-e6d0-4036-9ec6-b41487ea2d5f button.colab-df-convert');\n",
              "      buttonEl.style.display =\n",
              "        google.colab.kernel.accessAllowed ? 'block' : 'none';\n",
              "\n",
              "      async function convertToInteractive(key) {\n",
              "        const element = document.querySelector('#df-3f53e14f-e6d0-4036-9ec6-b41487ea2d5f');\n",
              "        const dataTable =\n",
              "          await google.colab.kernel.invokeFunction('convertToInteractive',\n",
              "                                                    [key], {});\n",
              "        if (!dataTable) return;\n",
              "\n",
              "        const docLinkHtml = 'Like what you see? Visit the ' +\n",
              "          '<a target=\"_blank\" href=https://colab.research.google.com/notebooks/data_table.ipynb>data table notebook</a>'\n",
              "          + ' to learn more about interactive tables.';\n",
              "        element.innerHTML = '';\n",
              "        dataTable['output_type'] = 'display_data';\n",
              "        await google.colab.output.renderOutput(dataTable, element);\n",
              "        const docLink = document.createElement('div');\n",
              "        docLink.innerHTML = docLinkHtml;\n",
              "        element.appendChild(docLink);\n",
              "      }\n",
              "    </script>\n",
              "  </div>\n",
              "\n",
              "\n",
              "<div id=\"df-1cf930b9-9faa-4112-b34d-608fbf7d904b\">\n",
              "  <button class=\"colab-df-quickchart\" onclick=\"quickchart('df-1cf930b9-9faa-4112-b34d-608fbf7d904b')\"\n",
              "            title=\"Suggest charts\"\n",
              "            style=\"display:none;\">\n",
              "\n",
              "<svg xmlns=\"http://www.w3.org/2000/svg\" height=\"24px\"viewBox=\"0 0 24 24\"\n",
              "     width=\"24px\">\n",
              "    <g>\n",
              "        <path d=\"M19 3H5c-1.1 0-2 .9-2 2v14c0 1.1.9 2 2 2h14c1.1 0 2-.9 2-2V5c0-1.1-.9-2-2-2zM9 17H7v-7h2v7zm4 0h-2V7h2v10zm4 0h-2v-4h2v4z\"/>\n",
              "    </g>\n",
              "</svg>\n",
              "  </button>\n",
              "\n",
              "<style>\n",
              "  .colab-df-quickchart {\n",
              "      --bg-color: #E8F0FE;\n",
              "      --fill-color: #1967D2;\n",
              "      --hover-bg-color: #E2EBFA;\n",
              "      --hover-fill-color: #174EA6;\n",
              "      --disabled-fill-color: #AAA;\n",
              "      --disabled-bg-color: #DDD;\n",
              "  }\n",
              "\n",
              "  [theme=dark] .colab-df-quickchart {\n",
              "      --bg-color: #3B4455;\n",
              "      --fill-color: #D2E3FC;\n",
              "      --hover-bg-color: #434B5C;\n",
              "      --hover-fill-color: #FFFFFF;\n",
              "      --disabled-bg-color: #3B4455;\n",
              "      --disabled-fill-color: #666;\n",
              "  }\n",
              "\n",
              "  .colab-df-quickchart {\n",
              "    background-color: var(--bg-color);\n",
              "    border: none;\n",
              "    border-radius: 50%;\n",
              "    cursor: pointer;\n",
              "    display: none;\n",
              "    fill: var(--fill-color);\n",
              "    height: 32px;\n",
              "    padding: 0;\n",
              "    width: 32px;\n",
              "  }\n",
              "\n",
              "  .colab-df-quickchart:hover {\n",
              "    background-color: var(--hover-bg-color);\n",
              "    box-shadow: 0 1px 2px rgba(60, 64, 67, 0.3), 0 1px 3px 1px rgba(60, 64, 67, 0.15);\n",
              "    fill: var(--button-hover-fill-color);\n",
              "  }\n",
              "\n",
              "  .colab-df-quickchart-complete:disabled,\n",
              "  .colab-df-quickchart-complete:disabled:hover {\n",
              "    background-color: var(--disabled-bg-color);\n",
              "    fill: var(--disabled-fill-color);\n",
              "    box-shadow: none;\n",
              "  }\n",
              "\n",
              "  .colab-df-spinner {\n",
              "    border: 2px solid var(--fill-color);\n",
              "    border-color: transparent;\n",
              "    border-bottom-color: var(--fill-color);\n",
              "    animation:\n",
              "      spin 1s steps(1) infinite;\n",
              "  }\n",
              "\n",
              "  @keyframes spin {\n",
              "    0% {\n",
              "      border-color: transparent;\n",
              "      border-bottom-color: var(--fill-color);\n",
              "      border-left-color: var(--fill-color);\n",
              "    }\n",
              "    20% {\n",
              "      border-color: transparent;\n",
              "      border-left-color: var(--fill-color);\n",
              "      border-top-color: var(--fill-color);\n",
              "    }\n",
              "    30% {\n",
              "      border-color: transparent;\n",
              "      border-left-color: var(--fill-color);\n",
              "      border-top-color: var(--fill-color);\n",
              "      border-right-color: var(--fill-color);\n",
              "    }\n",
              "    40% {\n",
              "      border-color: transparent;\n",
              "      border-right-color: var(--fill-color);\n",
              "      border-top-color: var(--fill-color);\n",
              "    }\n",
              "    60% {\n",
              "      border-color: transparent;\n",
              "      border-right-color: var(--fill-color);\n",
              "    }\n",
              "    80% {\n",
              "      border-color: transparent;\n",
              "      border-right-color: var(--fill-color);\n",
              "      border-bottom-color: var(--fill-color);\n",
              "    }\n",
              "    90% {\n",
              "      border-color: transparent;\n",
              "      border-bottom-color: var(--fill-color);\n",
              "    }\n",
              "  }\n",
              "</style>\n",
              "\n",
              "  <script>\n",
              "    async function quickchart(key) {\n",
              "      const quickchartButtonEl =\n",
              "        document.querySelector('#' + key + ' button');\n",
              "      quickchartButtonEl.disabled = true;  // To prevent multiple clicks.\n",
              "      quickchartButtonEl.classList.add('colab-df-spinner');\n",
              "      try {\n",
              "        const charts = await google.colab.kernel.invokeFunction(\n",
              "            'suggestCharts', [key], {});\n",
              "      } catch (error) {\n",
              "        console.error('Error during call to suggestCharts:', error);\n",
              "      }\n",
              "      quickchartButtonEl.classList.remove('colab-df-spinner');\n",
              "      quickchartButtonEl.classList.add('colab-df-quickchart-complete');\n",
              "    }\n",
              "    (() => {\n",
              "      let quickchartButtonEl =\n",
              "        document.querySelector('#df-1cf930b9-9faa-4112-b34d-608fbf7d904b button');\n",
              "      quickchartButtonEl.style.display =\n",
              "        google.colab.kernel.accessAllowed ? 'block' : 'none';\n",
              "    })();\n",
              "  </script>\n",
              "</div>\n",
              "    </div>\n",
              "  </div>\n"
            ],
            "application/vnd.google.colaboratory.intrinsic+json": {
              "type": "dataframe",
              "variable_name": "dia"
            }
          },
          "metadata": {},
          "execution_count": 126
        }
      ]
    },
    {
      "cell_type": "markdown",
      "source": [
        "It contains several columns, including patient demographics (race, gender, age, weight), healthcare encounter details (admission_type_id, discharge_disposition_id, admission_source_id, time_in_hospital), and various medical attributes and treatments.\n",
        "\n",
        "The readmitted column, which indicates whether the patient was readmitted or not, is a key focus for our analysis."
      ],
      "metadata": {
        "id": "HZPsMnl5xHNH"
      }
    },
    {
      "cell_type": "code",
      "source": [
        "# -- print the data type\n",
        "dia.dtypes"
      ],
      "metadata": {
        "colab": {
          "base_uri": "https://localhost:8080/"
        },
        "id": "Bomf6Z0qvW_B",
        "outputId": "16550880-9c3f-4ffd-c480-f9c10996a629"
      },
      "execution_count": null,
      "outputs": [
        {
          "output_type": "execute_result",
          "data": {
            "text/plain": [
              "encounter_id                 int64\n",
              "patient_nbr                  int64\n",
              "race                        object\n",
              "gender                      object\n",
              "age                         object\n",
              "weight                      object\n",
              "admission_type_id            int64\n",
              "discharge_disposition_id     int64\n",
              "admission_source_id          int64\n",
              "time_in_hospital             int64\n",
              "payer_code                  object\n",
              "medical_specialty           object\n",
              "num_lab_procedures           int64\n",
              "num_procedures               int64\n",
              "num_medications              int64\n",
              "number_outpatient            int64\n",
              "number_emergency             int64\n",
              "number_inpatient             int64\n",
              "diag_1                      object\n",
              "diag_2                      object\n",
              "diag_3                      object\n",
              "number_diagnoses             int64\n",
              "max_glu_serum               object\n",
              "A1Cresult                   object\n",
              "metformin                   object\n",
              "repaglinide                 object\n",
              "nateglinide                 object\n",
              "chlorpropamide              object\n",
              "glimepiride                 object\n",
              "acetohexamide               object\n",
              "glipizide                   object\n",
              "glyburide                   object\n",
              "tolbutamide                 object\n",
              "pioglitazone                object\n",
              "rosiglitazone               object\n",
              "acarbose                    object\n",
              "miglitol                    object\n",
              "troglitazone                object\n",
              "tolazamide                  object\n",
              "examide                     object\n",
              "citoglipton                 object\n",
              "insulin                     object\n",
              "glyburide-metformin         object\n",
              "glipizide-metformin         object\n",
              "glimepiride-pioglitazone    object\n",
              "metformin-rosiglitazone     object\n",
              "metformin-pioglitazone      object\n",
              "change                      object\n",
              "diabetesMed                 object\n",
              "readmitted                  object\n",
              "dtype: object"
            ]
          },
          "metadata": {},
          "execution_count": 127
        }
      ]
    },
    {
      "cell_type": "markdown",
      "source": [
        "The dataset includes both numerical and categorical columns.\n",
        "Some columns like race, gender, age, weight, payer_code, and medical_specialty are categorical.\n",
        "Columns such as time_in_hospital, num_lab_procedures, num_procedures, and num_medications are numerical."
      ],
      "metadata": {
        "id": "3LUSrP3axe4l"
      }
    },
    {
      "cell_type": "markdown",
      "source": [
        "**missing value**"
      ],
      "metadata": {
        "id": "VapgMm799sh1"
      }
    },
    {
      "cell_type": "code",
      "source": [
        "# -- Checking for missing values for each columns\n",
        "# -- since there are many \"?\" in the raw data, let's deal with it first\n",
        "# -- Replace '?' with NaN for clearer handling of missing data\n",
        "dia_cleaned = dia.replace('?', pd.NA)\n",
        "\n",
        "# -- Count the number of missing values in each column\n",
        "missing_values = dia_cleaned.isna().sum()\n",
        "\n",
        "# -- Print the missing values\n",
        "print(\"Missing Values Count:\\n\", missing_values.sort_values(ascending=False))\n",
        "\n",
        "# --Plotting the missing values\n",
        "plt.figure(figsize=(15, 6))\n",
        "missing_values[missing_values > 0].sort_values(ascending=False).plot(kind='bar')\n",
        "plt.title('Missing Values in Each Column')\n",
        "plt.ylabel('Number of Missing Values')\n",
        "plt.xlabel('Columns')\n",
        "plt.show()"
      ],
      "metadata": {
        "colab": {
          "base_uri": "https://localhost:8080/",
          "height": 1000
        },
        "id": "s8_XcEJowLvA",
        "outputId": "4ce9d54f-3b7d-445f-bdf4-936511e8b683"
      },
      "execution_count": null,
      "outputs": [
        {
          "output_type": "stream",
          "name": "stdout",
          "text": [
            "Missing Values Count:\n",
            " weight                      98569\n",
            "medical_specialty           49949\n",
            "payer_code                  40256\n",
            "race                         2273\n",
            "diag_3                       1423\n",
            "diag_2                        358\n",
            "diag_1                         21\n",
            "encounter_id                    0\n",
            "tolazamide                      0\n",
            "glyburide                       0\n",
            "tolbutamide                     0\n",
            "pioglitazone                    0\n",
            "rosiglitazone                   0\n",
            "acarbose                        0\n",
            "miglitol                        0\n",
            "troglitazone                    0\n",
            "citoglipton                     0\n",
            "examide                         0\n",
            "acetohexamide                   0\n",
            "insulin                         0\n",
            "glyburide-metformin             0\n",
            "glipizide-metformin             0\n",
            "glimepiride-pioglitazone        0\n",
            "metformin-rosiglitazone         0\n",
            "metformin-pioglitazone          0\n",
            "change                          0\n",
            "diabetesMed                     0\n",
            "glipizide                       0\n",
            "repaglinide                     0\n",
            "glimepiride                     0\n",
            "num_medications                 0\n",
            "gender                          0\n",
            "age                             0\n",
            "admission_type_id               0\n",
            "discharge_disposition_id        0\n",
            "admission_source_id             0\n",
            "time_in_hospital                0\n",
            "num_lab_procedures              0\n",
            "num_procedures                  0\n",
            "number_outpatient               0\n",
            "chlorpropamide                  0\n",
            "number_emergency                0\n",
            "number_inpatient                0\n",
            "number_diagnoses                0\n",
            "max_glu_serum                   0\n",
            "A1Cresult                       0\n",
            "metformin                       0\n",
            "patient_nbr                     0\n",
            "nateglinide                     0\n",
            "readmitted                      0\n",
            "dtype: int64\n"
          ]
        },
        {
          "output_type": "display_data",
          "data": {
            "text/plain": [
              "<Figure size 1500x600 with 1 Axes>"
            ],
            "image/png": "[encoded data removed]"
          },
          "metadata": {}
        }
      ]
    },
    {
      "cell_type": "markdown",
      "source": [
        "The missing values in the dataset have been calculated and plotted. Here are the key observations:\n",
        "\n",
        "Significant Missing Data: The weight column has the most missing values (98,569), followed by medical_specialty (49,949), and payer_code (40,256).\n",
        "\n",
        "Moderate Missing Values: Columns like race, diag_3, and diag_2 have a moderate number of missing values.\n",
        "\n",
        "Minor Missing Values: diag_1 has a relatively small number of missing values (21)."
      ],
      "metadata": {
        "id": "QqBxOwtNb1KW"
      }
    },
    {
      "cell_type": "code",
      "source": [
        "\n",
        "# -- print the unique value of payer code\n",
        "dia[\"payer_code\"].unique()"
      ],
      "metadata": {
        "colab": {
          "base_uri": "https://localhost:8080/"
        },
        "id": "pjfoGgf95reI",
        "outputId": "59698258-da5b-4283-c850-7ef886655c52"
      },
      "execution_count": null,
      "outputs": [
        {
          "output_type": "execute_result",
          "data": {
            "text/plain": [
              "array(['?', 'MC', 'MD', 'HM', 'UN', 'BC', 'SP', 'CP', 'SI', 'DM', 'CM',\n",
              "       'CH', 'PO', 'WC', 'OT', 'OG', 'MP', 'FR'], dtype=object)"
            ]
          },
          "metadata": {},
          "execution_count": 129
        }
      ]
    },
    {
      "cell_type": "code",
      "source": [
        "# -- print the unique value of payer code\n",
        "dia[\"medical_specialty\"].unique()"
      ],
      "metadata": {
        "colab": {
          "base_uri": "https://localhost:8080/"
        },
        "id": "gVNF1jzD6PZB",
        "outputId": "dd439895-7d4b-4650-cf18-63ea3a9d5b80"
      },
      "execution_count": null,
      "outputs": [
        {
          "output_type": "execute_result",
          "data": {
            "text/plain": [
              "array(['Pediatrics-Endocrinology', '?', 'InternalMedicine',\n",
              "       'Family/GeneralPractice', 'Cardiology', 'Surgery-General',\n",
              "       'Orthopedics', 'Gastroenterology',\n",
              "       'Surgery-Cardiovascular/Thoracic', 'Nephrology',\n",
              "       'Orthopedics-Reconstructive', 'Psychiatry', 'Emergency/Trauma',\n",
              "       'Pulmonology', 'Surgery-Neuro',\n",
              "       'Obsterics&Gynecology-GynecologicOnco', 'ObstetricsandGynecology',\n",
              "       'Pediatrics', 'Hematology/Oncology', 'Otolaryngology',\n",
              "       'Surgery-Colon&Rectal', 'Pediatrics-CriticalCare', 'Endocrinology',\n",
              "       'Urology', 'Psychiatry-Child/Adolescent', 'Pediatrics-Pulmonology',\n",
              "       'Neurology', 'Anesthesiology-Pediatric', 'Radiology',\n",
              "       'Pediatrics-Hematology-Oncology', 'Psychology', 'Podiatry',\n",
              "       'Gynecology', 'Oncology', 'Pediatrics-Neurology',\n",
              "       'Surgery-Plastic', 'Surgery-Thoracic',\n",
              "       'Surgery-PlasticwithinHeadandNeck', 'Ophthalmology',\n",
              "       'Surgery-Pediatric', 'Pediatrics-EmergencyMedicine',\n",
              "       'PhysicalMedicineandRehabilitation', 'InfectiousDiseases',\n",
              "       'Anesthesiology', 'Rheumatology', 'AllergyandImmunology',\n",
              "       'Surgery-Maxillofacial', 'Pediatrics-InfectiousDiseases',\n",
              "       'Pediatrics-AllergyandImmunology', 'Dentistry', 'Surgeon',\n",
              "       'Surgery-Vascular', 'Osteopath', 'Psychiatry-Addictive',\n",
              "       'Surgery-Cardiovascular', 'PhysicianNotFound', 'Hematology',\n",
              "       'Proctology', 'Obstetrics', 'SurgicalSpecialty', 'Radiologist',\n",
              "       'Pathology', 'Dermatology', 'SportsMedicine', 'Speech',\n",
              "       'Hospitalist', 'OutreachServices', 'Cardiology-Pediatric',\n",
              "       'Perinatology', 'Neurophysiology', 'Endocrinology-Metabolism',\n",
              "       'DCPTEAM', 'Resident'], dtype=object)"
            ]
          },
          "metadata": {},
          "execution_count": 130
        }
      ]
    },
    {
      "cell_type": "code",
      "source": [
        "# -- dropping columns with large number of missing values\n",
        "dia_cleaned = dia_cleaned.drop(['weight'], axis = 1)"
      ],
      "metadata": {
        "id": "lIJM_pNs0cFB"
      },
      "execution_count": null,
      "outputs": []
    },
    {
      "cell_type": "code",
      "source": [
        "# -- replacing nan to unknown\n",
        "dia_cleaned[\"payer_code\"] = dia_cleaned[\"payer_code\"].fillna(\"UNK\")\n",
        "dia_cleaned[\"medical_specialty\"] = dia_cleaned[\"medical_specialty\"].fillna(\"UNK\")\n",
        "\n",
        "# -- also same for the race\n",
        "dia_cleaned[\"race\"] = dia_cleaned[\"race\"].fillna(\"UNK\")\n"
      ],
      "metadata": {
        "id": "xTKJAWHEpAQd"
      },
      "execution_count": null,
      "outputs": []
    },
    {
      "cell_type": "markdown",
      "source": [
        "I only dropped weight since it consists almost 90% null values. For the medical_specialty, considering it reflect the various health condition for each patient, I would like to replace \"?\" to unknown value and use this as a categorical data to do the prediction. Also for payer_code, since it somehow refects the medical level for different geo location, I will also keep it."
      ],
      "metadata": {
        "id": "tCx7uMrmDlWV"
      }
    },
    {
      "cell_type": "code",
      "source": [
        "dia_cleaned.columns"
      ],
      "metadata": {
        "colab": {
          "base_uri": "https://localhost:8080/"
        },
        "id": "6fGZTCcSEJuj",
        "outputId": "3677d546-6ae8-4aee-895e-1f86ba00b082"
      },
      "execution_count": null,
      "outputs": [
        {
          "output_type": "execute_result",
          "data": {
            "text/plain": [
              "Index(['encounter_id', 'patient_nbr', 'race', 'gender', 'age',\n",
              "       'admission_type_id', 'discharge_disposition_id', 'admission_source_id',\n",
              "       'time_in_hospital', 'payer_code', 'medical_specialty',\n",
              "       'num_lab_procedures', 'num_procedures', 'num_medications',\n",
              "       'number_outpatient', 'number_emergency', 'number_inpatient', 'diag_1',\n",
              "       'diag_2', 'diag_3', 'number_diagnoses', 'max_glu_serum', 'A1Cresult',\n",
              "       'metformin', 'repaglinide', 'nateglinide', 'chlorpropamide',\n",
              "       'glimepiride', 'acetohexamide', 'glipizide', 'glyburide', 'tolbutamide',\n",
              "       'pioglitazone', 'rosiglitazone', 'acarbose', 'miglitol', 'troglitazone',\n",
              "       'tolazamide', 'examide', 'citoglipton', 'insulin',\n",
              "       'glyburide-metformin', 'glipizide-metformin',\n",
              "       'glimepiride-pioglitazone', 'metformin-rosiglitazone',\n",
              "       'metformin-pioglitazone', 'change', 'diabetesMed', 'readmitted'],\n",
              "      dtype='object')"
            ]
          },
          "metadata": {},
          "execution_count": 133
        }
      ]
    },
    {
      "cell_type": "code",
      "source": [
        "# -- remove samples are related to death or hospice\n",
        "dia_cleaned = dia_cleaned.loc[~dia_cleaned.discharge_disposition_id.isin([11,13,14,19,20,21])]"
      ],
      "metadata": {
        "id": "a7ixVGzggHj8"
      },
      "execution_count": null,
      "outputs": []
    },
    {
      "cell_type": "markdown",
      "source": [
        "since for the discharge_disposition_id, 11,13,14,19,20,21 are related to death or hospice, we also need to remove these samples since they cannot be readmitted"
      ],
      "metadata": {
        "id": "fMMyQPMWf4IR"
      }
    },
    {
      "cell_type": "markdown",
      "source": [
        "**dependent feature**"
      ],
      "metadata": {
        "id": "6w2SJtPx92Pc"
      }
    },
    {
      "cell_type": "code",
      "source": [
        "# -- check the distribution of readmissions\n",
        "dia_cleaned.groupby(\"readmitted\").size()"
      ],
      "metadata": {
        "colab": {
          "base_uri": "https://localhost:8080/"
        },
        "id": "axpT7ioeeCCN",
        "outputId": "b0b1f9b6-2838-4f5e-efa9-a650523ce9ed"
      },
      "execution_count": null,
      "outputs": [
        {
          "output_type": "execute_result",
          "data": {
            "text/plain": [
              "readmitted\n",
              "<30    11314\n",
              ">30    35502\n",
              "NO     52527\n",
              "dtype: int64"
            ]
          },
          "metadata": {},
          "execution_count": 135
        }
      ]
    },
    {
      "cell_type": "markdown",
      "source": [
        "The above results tell us if a patient was hospitalized within 30 days, greater than 30 days or not readmitted. Therefore, simply using \"yes\" or \"no\" as the dependent variable has the imbalanced dataset problem. But I will handle this later."
      ],
      "metadata": {
        "id": "XXzflLOKjX7h"
      }
    },
    {
      "cell_type": "code",
      "source": [
        "# -- turn it to dummy variable\n",
        "dia_cleaned['readmitted'] = dia_cleaned['readmitted'].apply(lambda x: 0 if x == 'NO' else 1)\n"
      ],
      "metadata": {
        "colab": {
          "base_uri": "https://localhost:8080/"
        },
        "id": "bSEfgyxei6tr",
        "outputId": "b035a610-6727-4653-fce8-7f9fff2ea2ae"
      },
      "execution_count": null,
      "outputs": [
        {
          "output_type": "stream",
          "name": "stderr",
          "text": [
            "<ipython-input-136-8312841a6885>:2: SettingWithCopyWarning: \n",
            "A value is trying to be set on a copy of a slice from a DataFrame.\n",
            "Try using .loc[row_indexer,col_indexer] = value instead\n",
            "\n",
            "See the caveats in the documentation: https://pandas.pydata.org/pandas-docs/stable/user_guide/indexing.html#returning-a-view-versus-a-copy\n",
            "  dia_cleaned['readmitted'] = dia_cleaned['readmitted'].apply(lambda x: 0 if x == 'NO' else 1)\n"
          ]
        }
      ]
    },
    {
      "cell_type": "markdown",
      "source": [
        "# Feature selection"
      ],
      "metadata": {
        "id": "itKkF-1insax"
      }
    },
    {
      "cell_type": "markdown",
      "source": [
        "We have preliminarily cleaned the dataset. Now, let's conduct a more thorough analysis of the columns to select the most relevant features for our study."
      ],
      "metadata": {
        "id": "HGi1T3FHnxrU"
      }
    },
    {
      "cell_type": "code",
      "source": [
        "# -- let's check the nan value foe each column\n",
        "dia_cleaned.isna().sum().sort_values(ascending=False)"
      ],
      "metadata": {
        "colab": {
          "base_uri": "https://localhost:8080/"
        },
        "id": "ohINR4f8jBOT",
        "outputId": "5412e149-ba84-4abf-d862-7bef1291346c"
      },
      "execution_count": null,
      "outputs": [
        {
          "output_type": "execute_result",
          "data": {
            "text/plain": [
              "diag_3                      1419\n",
              "diag_2                       356\n",
              "diag_1                        20\n",
              "encounter_id                   0\n",
              "chlorpropamide                 0\n",
              "acetohexamide                  0\n",
              "glipizide                      0\n",
              "glyburide                      0\n",
              "tolbutamide                    0\n",
              "pioglitazone                   0\n",
              "rosiglitazone                  0\n",
              "acarbose                       0\n",
              "miglitol                       0\n",
              "troglitazone                   0\n",
              "tolazamide                     0\n",
              "examide                        0\n",
              "citoglipton                    0\n",
              "insulin                        0\n",
              "glyburide-metformin            0\n",
              "glipizide-metformin            0\n",
              "glimepiride-pioglitazone       0\n",
              "metformin-rosiglitazone        0\n",
              "metformin-pioglitazone         0\n",
              "change                         0\n",
              "diabetesMed                    0\n",
              "glimepiride                    0\n",
              "repaglinide                    0\n",
              "nateglinide                    0\n",
              "patient_nbr                    0\n",
              "race                           0\n",
              "gender                         0\n",
              "age                            0\n",
              "admission_type_id              0\n",
              "discharge_disposition_id       0\n",
              "admission_source_id            0\n",
              "time_in_hospital               0\n",
              "payer_code                     0\n",
              "medical_specialty              0\n",
              "num_lab_procedures             0\n",
              "num_procedures                 0\n",
              "num_medications                0\n",
              "number_outpatient              0\n",
              "number_emergency               0\n",
              "number_inpatient               0\n",
              "number_diagnoses               0\n",
              "max_glu_serum                  0\n",
              "A1Cresult                      0\n",
              "metformin                      0\n",
              "readmitted                     0\n",
              "dtype: int64"
            ]
          },
          "metadata": {},
          "execution_count": 137
        }
      ]
    },
    {
      "cell_type": "markdown",
      "source": [
        "we find the numerical data in here has no missing values, therefore, we would like to plot the distirbution of each of them."
      ],
      "metadata": {
        "id": "OMS8rk1cp22S"
      }
    },
    {
      "cell_type": "markdown",
      "source": [
        "**this is for numerical columns**"
      ],
      "metadata": {
        "id": "SEAwDx41vFiT"
      }
    },
    {
      "cell_type": "markdown",
      "source": [
        "***age***"
      ],
      "metadata": {
        "id": "YZMyiWhjxh_g"
      }
    },
    {
      "cell_type": "code",
      "source": [
        "# -- print the distribution of age\n",
        "dia_cleaned.groupby(\"age\").size()"
      ],
      "metadata": {
        "colab": {
          "base_uri": "https://localhost:8080/"
        },
        "id": "IL2GRQjMrDBC",
        "outputId": "bcb2500c-600d-4a35-b737-0e40ed5abef1"
      },
      "execution_count": null,
      "outputs": [
        {
          "output_type": "execute_result",
          "data": {
            "text/plain": [
              "age\n",
              "[0-10)        160\n",
              "[10-20)       690\n",
              "[20-30)      1649\n",
              "[30-40)      3764\n",
              "[40-50)      9607\n",
              "[50-60)     17060\n",
              "[60-70)     22059\n",
              "[70-80)     25331\n",
              "[80-90)     16434\n",
              "[90-100)     2589\n",
              "dtype: int64"
            ]
          },
          "metadata": {},
          "execution_count": 138
        }
      ]
    },
    {
      "cell_type": "markdown",
      "source": [
        "There are various approaches to handling the age data in our dataset. One option is to consolidate it into fewer categories. However, for our analysis, I prefer to retain the original structure of the raw data to assess the impact of age on readmissions. Consequently, I will divide age into 10 distinct categories. For instance, the [0-10] age range will be represented by 0."
      ],
      "metadata": {
        "id": "4ooRmA_Wxdvc"
      }
    },
    {
      "cell_type": "code",
      "source": [
        "# -- Creating a dictionary for age mapping\n",
        "age_mapping = {\n",
        "    '[0-10)': 0,\n",
        "    '[10-20)': 10,\n",
        "    '[20-30)': 20,\n",
        "    '[30-40)': 30,\n",
        "    '[40-50)': 40,\n",
        "    '[50-60)': 50,\n",
        "    '[60-70)': 60,\n",
        "    '[70-80)': 70,\n",
        "    '[80-90)': 80,\n",
        "    '[90-100)': 90\n",
        "}\n",
        "\n",
        "# -- Apply the mapping using the map() function\n",
        "dia_cleaned['age_mapped'] = dia_cleaned['age'].map(age_mapping)\n"
      ],
      "metadata": {
        "id": "MztI330rxdLs"
      },
      "execution_count": null,
      "outputs": []
    },
    {
      "cell_type": "code",
      "source": [
        "num_cols = [\"num_lab_procedures\", \"time_in_hospital\", \"num_procedures\",\n",
        "       \"num_medications\", \"number_outpatient\", \"number_emergency\",\n",
        "       \"number_inpatient\", \"number_diagnoses\", \"age_mapped\"]\n",
        "\n",
        "# Plotting histograms for each specified numerical column\n",
        "plt.figure(figsize=(20, 15))\n",
        "for i, col in enumerate(num_cols):\n",
        "    plt.subplot(3, 3, i + 1)\n",
        "    dia_cleaned[col].hist(bins=20)\n",
        "    plt.title(col)\n",
        "    plt.xlabel(col)\n",
        "    plt.ylabel('Frequency')\n",
        "\n",
        "plt.tight_layout()\n",
        "plt.show()\n",
        "\n",
        "# Displaying an overview of these numerical columns\n",
        "print(dia_cleaned[num_cols].describe())"
      ],
      "metadata": {
        "colab": {
          "base_uri": "https://localhost:8080/",
          "height": 1000
        },
        "id": "BgLAbpZsqYgZ",
        "outputId": "e4b91cec-e4ce-459a-b5d9-908e2d99f10f"
      },
      "execution_count": null,
      "outputs": [
        {
          "output_type": "display_data",
          "data": {
            "text/plain": [
              "<Figure size 2000x1500 with 9 Axes>"
            ],
            "image/png": "[encoded data removed]"
          },
          "metadata": {}
        },
        {
          "output_type": "stream",
          "name": "stdout",
          "text": [
            "       num_lab_procedures  time_in_hospital  num_procedures  num_medications  \\\n",
            "count        99343.000000      99343.000000    99343.000000     99343.000000   \n",
            "mean            42.906929          4.379332        1.334236        15.979062   \n",
            "std             19.610032          2.968409        1.702786         8.094909   \n",
            "min              1.000000          1.000000        0.000000         1.000000   \n",
            "25%             31.000000          2.000000        0.000000        10.000000   \n",
            "50%             44.000000          4.000000        1.000000        15.000000   \n",
            "75%             57.000000          6.000000        2.000000        20.000000   \n",
            "max            132.000000         14.000000        6.000000        81.000000   \n",
            "\n",
            "       number_outpatient  number_emergency  number_inpatient  \\\n",
            "count       99343.000000      99343.000000      99343.000000   \n",
            "mean            0.369246          0.198444          0.630935   \n",
            "std             1.265142          0.937734          1.260428   \n",
            "min             0.000000          0.000000          0.000000   \n",
            "25%             0.000000          0.000000          0.000000   \n",
            "50%             0.000000          0.000000          0.000000   \n",
            "75%             0.000000          0.000000          1.000000   \n",
            "max            42.000000         76.000000         21.000000   \n",
            "\n",
            "       number_diagnoses    age_mapped  \n",
            "count      99343.000000  99343.000000  \n",
            "mean           7.401709     60.744290  \n",
            "std            1.941013     15.945176  \n",
            "min            1.000000      0.000000  \n",
            "25%            6.000000     50.000000  \n",
            "50%            8.000000     60.000000  \n",
            "75%            9.000000     70.000000  \n",
            "max           16.000000     90.000000  \n"
          ]
        }
      ]
    },
    {
      "cell_type": "markdown",
      "source": [
        "according to the printed results above, numerical columns above are clean and ready to use"
      ],
      "metadata": {
        "id": "C-23Il3quydP"
      }
    },
    {
      "cell_type": "markdown",
      "source": [
        "**this part is for the categorical features**"
      ],
      "metadata": {
        "id": "7WVTtQyhvLnV"
      }
    },
    {
      "cell_type": "markdown",
      "source": [
        "***medical_specialty***"
      ],
      "metadata": {
        "id": "CFUrJTtKxnm0"
      }
    },
    {
      "cell_type": "code",
      "source": [
        "# -- print the num and the unique value for medical_specialty\n",
        "dia_cleaned.groupby(\"medical_specialty\").size().sort_values(ascending = False)"
      ],
      "metadata": {
        "colab": {
          "base_uri": "https://localhost:8080/"
        },
        "id": "88I0HWF5xZZ8",
        "outputId": "29811a45-2369-449c-f5a9-bd3ed1e4522b"
      },
      "execution_count": null,
      "outputs": [
        {
          "output_type": "execute_result",
          "data": {
            "text/plain": [
              "medical_specialty\n",
              "UNK                                 48616\n",
              "InternalMedicine                    14237\n",
              "Emergency/Trauma                     7419\n",
              "Family/GeneralPractice               7252\n",
              "Cardiology                           5279\n",
              "                                    ...  \n",
              "Surgery-PlasticwithinHeadandNeck        1\n",
              "Dermatology                             1\n",
              "Proctology                              1\n",
              "Psychiatry-Addictive                    1\n",
              "Speech                                  1\n",
              "Length: 73, dtype: int64"
            ]
          },
          "metadata": {},
          "execution_count": 141
        }
      ]
    },
    {
      "cell_type": "markdown",
      "source": [
        "It seems most of patients are unknown and the count drop off pretty quicky. We dont need to do one-hot-encoding for all of them, so I would like to keep the first 10."
      ],
      "metadata": {
        "id": "pVq8LtHKqtm5"
      }
    },
    {
      "cell_type": "code",
      "source": [
        "# --select features for one-hot-encoding\n",
        "medical_specialty = dia_cleaned.groupby(\"medical_specialty\").size().sort_values(ascending = False)[:10]\n",
        "spec_cols = medical_specialty.index.values\n",
        "spec_cols\n",
        "\n",
        "# -- make a new column with duplicated data\n",
        "dia_cleaned[\"med_spec\"] = dia_cleaned[\"medical_specialty\"].copy()\n",
        "\n",
        "# -- replace the rest of specialities not in top 10 with 'other' category\n",
        "dia_cleaned.loc[~dia_cleaned.med_spec.isin(spec_cols), 'med_spec'] = 'other'\n",
        "\n",
        "# -- print the result\n",
        "dia_cleaned.groupby(\"med_spec\").size()"
      ],
      "metadata": {
        "colab": {
          "base_uri": "https://localhost:8080/"
        },
        "id": "eK8JvmkTqKE3",
        "outputId": "0d899e43-1e1c-4b34-bdb1-840ab62fd76e"
      },
      "execution_count": null,
      "outputs": [
        {
          "output_type": "execute_result",
          "data": {
            "text/plain": [
              "med_spec\n",
              "Cardiology                     5279\n",
              "Emergency/Trauma               7419\n",
              "Family/GeneralPractice         7252\n",
              "InternalMedicine              14237\n",
              "Nephrology                     1539\n",
              "Orthopedics                    1392\n",
              "Orthopedics-Reconstructive     1230\n",
              "Radiologist                    1121\n",
              "Surgery-General                3059\n",
              "UNK                           48616\n",
              "other                          8199\n",
              "dtype: int64"
            ]
          },
          "metadata": {},
          "execution_count": 142
        }
      ]
    },
    {
      "cell_type": "markdown",
      "source": [
        "***gender***"
      ],
      "metadata": {
        "id": "8plEbCZOxs8H"
      }
    },
    {
      "cell_type": "code",
      "source": [
        "# -- check the distribution of gender\n",
        "print(dia_cleaned.groupby(\"gender\").size())\n",
        "\n",
        "# -- drop rows that gender == unknown\n",
        "dia_cleaned = dia_cleaned[dia_cleaned['gender'] != 'Unknown/Invalid'].reset_index()"
      ],
      "metadata": {
        "colab": {
          "base_uri": "https://localhost:8080/"
        },
        "id": "da1_LBRvx2GX",
        "outputId": "472a8606-395a-4e75-c914-43cd40fdca0d"
      },
      "execution_count": null,
      "outputs": [
        {
          "output_type": "stream",
          "name": "stdout",
          "text": [
            "gender\n",
            "Female             53454\n",
            "Male               45886\n",
            "Unknown/Invalid        3\n",
            "dtype: int64\n"
          ]
        }
      ]
    },
    {
      "cell_type": "markdown",
      "source": [
        "I have decided to remove rows with the gender marked as 'unknown' because they only account for 3 patients. Considering the overall size of the dataset, excluding these few entries will be more appropriate for maintaining data integrity and accuracy in our analysis"
      ],
      "metadata": {
        "id": "mqxNQeM4yUwt"
      }
    },
    {
      "cell_type": "code",
      "source": [
        "# -- add categorical data and implement one hot encoding\n",
        "cate_cols = [\"admission_type_id\", \"discharge_disposition_id\", \"admission_source_id\", \"race\", \"gender\"]\n",
        "dia_cleaned[cate_cols] = dia_cleaned[cate_cols].astype(\"str\")\n",
        "\n",
        "dia_cleaned = pd.get_dummies(dia_cleaned[cate_cols + num_cols + [\"med_spec\"]+ [\"readmitted\"]], drop_first = True)"
      ],
      "metadata": {
        "id": "L0Xg9ahSrQNy"
      },
      "execution_count": null,
      "outputs": []
    },
    {
      "cell_type": "code",
      "source": [
        "# -- standardize numerical cols\n",
        "scaler  = StandardScaler()\n",
        "# Fit and transform the data\n",
        "dia_cleaned[num_cols] = scaler.fit_transform(dia_cleaned[num_cols])"
      ],
      "metadata": {
        "id": "j0Qdi4NKz-iI"
      },
      "execution_count": null,
      "outputs": []
    },
    {
      "cell_type": "code",
      "source": [
        "# -- check the nan value\n",
        "dia_cleaned.isna().sum().sort_values(ascending=False)"
      ],
      "metadata": {
        "colab": {
          "base_uri": "https://localhost:8080/"
        },
        "id": "9Dzntmmn5TI2",
        "outputId": "978690d8-5144-4125-fc8a-359e6568bc35"
      },
      "execution_count": null,
      "outputs": [
        {
          "output_type": "execute_result",
          "data": {
            "text/plain": [
              "num_lab_procedures             0\n",
              "admission_source_id_22         0\n",
              "admission_source_id_7          0\n",
              "admission_source_id_6          0\n",
              "admission_source_id_5          0\n",
              "                              ..\n",
              "discharge_disposition_id_28    0\n",
              "discharge_disposition_id_3     0\n",
              "discharge_disposition_id_4     0\n",
              "discharge_disposition_id_5     0\n",
              "med_spec_other                 0\n",
              "Length: 69, dtype: int64"
            ]
          },
          "metadata": {},
          "execution_count": 155
        }
      ]
    },
    {
      "cell_type": "code",
      "source": [
        "# -- check the features that we have included\n",
        "dia_cleaned.columns"
      ],
      "metadata": {
        "colab": {
          "base_uri": "https://localhost:8080/"
        },
        "id": "yAYETKG48qMC",
        "outputId": "543b2a31-f283-4263-92fe-a038d0cbb24e"
      },
      "execution_count": null,
      "outputs": [
        {
          "output_type": "execute_result",
          "data": {
            "text/plain": [
              "Index(['num_lab_procedures', 'time_in_hospital', 'num_procedures',\n",
              "       'num_medications', 'number_outpatient', 'number_emergency',\n",
              "       'number_inpatient', 'number_diagnoses', 'age_mapped', 'readmitted',\n",
              "       'admission_type_id_2', 'admission_type_id_3', 'admission_type_id_4',\n",
              "       'admission_type_id_5', 'admission_type_id_6', 'admission_type_id_7',\n",
              "       'admission_type_id_8', 'discharge_disposition_id_10',\n",
              "       'discharge_disposition_id_12', 'discharge_disposition_id_15',\n",
              "       'discharge_disposition_id_16', 'discharge_disposition_id_17',\n",
              "       'discharge_disposition_id_18', 'discharge_disposition_id_2',\n",
              "       'discharge_disposition_id_22', 'discharge_disposition_id_23',\n",
              "       'discharge_disposition_id_24', 'discharge_disposition_id_25',\n",
              "       'discharge_disposition_id_27', 'discharge_disposition_id_28',\n",
              "       'discharge_disposition_id_3', 'discharge_disposition_id_4',\n",
              "       'discharge_disposition_id_5', 'discharge_disposition_id_6',\n",
              "       'discharge_disposition_id_7', 'discharge_disposition_id_8',\n",
              "       'discharge_disposition_id_9', 'admission_source_id_10',\n",
              "       'admission_source_id_11', 'admission_source_id_13',\n",
              "       'admission_source_id_14', 'admission_source_id_17',\n",
              "       'admission_source_id_2', 'admission_source_id_20',\n",
              "       'admission_source_id_22', 'admission_source_id_25',\n",
              "       'admission_source_id_3', 'admission_source_id_4',\n",
              "       'admission_source_id_5', 'admission_source_id_6',\n",
              "       'admission_source_id_7', 'admission_source_id_8',\n",
              "       'admission_source_id_9', 'race_Asian', 'race_Caucasian',\n",
              "       'race_Hispanic', 'race_Other', 'race_UNK', 'gender_Male',\n",
              "       'med_spec_Emergency/Trauma', 'med_spec_Family/GeneralPractice',\n",
              "       'med_spec_InternalMedicine', 'med_spec_Nephrology',\n",
              "       'med_spec_Orthopedics', 'med_spec_Orthopedics-Reconstructive',\n",
              "       'med_spec_Radiologist', 'med_spec_Surgery-General', 'med_spec_UNK',\n",
              "       'med_spec_other'],\n",
              "      dtype='object')"
            ]
          },
          "metadata": {},
          "execution_count": 156
        }
      ]
    },
    {
      "cell_type": "markdown",
      "source": [
        "At this point, I did not include any medicine since that part need further medicine research and analysis. I will do that in the future, but now lets see how it works with the current features.  "
      ],
      "metadata": {
        "id": "BxPwJN9ahQr3"
      }
    },
    {
      "cell_type": "markdown",
      "source": [
        "# Building training/testing samples"
      ],
      "metadata": {
        "id": "XVLjsJkI8F_V"
      }
    },
    {
      "cell_type": "code",
      "source": [
        "\n",
        "from sklearn.model_selection import train_test_split\n",
        "\n",
        "feature_x = dia_cleaned.columns[dia_cleaned.columns != \"readmitted\"]\n",
        "X = dia_cleaned[feature_x]\n",
        "y = dia_cleaned[\"readmitted\"]\n",
        "\n",
        "# Splitting the data into train and test sets\n",
        "X_train, X_test, y_train, y_test = train_test_split(X, y, test_size=0.2, random_state=42)\n",
        "\n",
        "# Apply balancing techniques to X_train and y_train here\n",
        "# For example, using SMOTE\n",
        "from imblearn.over_sampling import SMOTE\n",
        "smote = SMOTE()\n",
        "X_train_balanced, y_train_balanced = smote.fit_resample(X_train, y_train)\n",
        "\n"
      ],
      "metadata": {
        "id": "SE1bj-kOitB5"
      },
      "execution_count": null,
      "outputs": []
    },
    {
      "cell_type": "markdown",
      "source": [
        "# Model selection"
      ],
      "metadata": {
        "id": "FXoh72-s3o79"
      }
    },
    {
      "cell_type": "markdown",
      "source": [
        "**KNN**"
      ],
      "metadata": {
        "id": "SIdTQANq7Eef"
      }
    },
    {
      "cell_type": "code",
      "source": [
        "# Initialize the KNN model\n",
        "knn = KNeighborsClassifier(n_neighbors=100)\n",
        "\n",
        "# Train the model\n",
        "knn.fit(X_train, y_train)\n",
        "\n",
        "# Predict on the test set\n",
        "y_pred = knn.predict(X_test)\n",
        "y_pred_train = knn.predict(X_train)\n",
        "\n",
        "\n",
        "# Calculate accuracy\n",
        "test_accuracy = accuracy_score(y_test, y_pred)\n",
        "train_accuracy = accuracy_score(y_train, y_pred_train)\n",
        "\n",
        "print(f\"Training Accuracy: {train_accuracy}\")\n",
        "print(f\"Test Accuracy: {test_accuracy}\")"
      ],
      "metadata": {
        "colab": {
          "base_uri": "https://localhost:8080/"
        },
        "id": "KJBAnH2p5xaK",
        "outputId": "1e590e59-7d81-43ee-d747-e0afb7b9515d"
      },
      "execution_count": null,
      "outputs": [
        {
          "output_type": "stream",
          "name": "stdout",
          "text": [
            "Training Accuracy: 0.6351419367827662\n",
            "Test Accuracy: 0.6264344674854037\n"
          ]
        }
      ]
    },
    {
      "cell_type": "markdown",
      "source": [
        "**Logistic regression**"
      ],
      "metadata": {
        "id": "eX86oHOO7I0f"
      }
    },
    {
      "cell_type": "code",
      "source": [
        "# Initialize the Logistic Regression model\n",
        "log_reg = LogisticRegression()\n",
        "\n",
        "# Train the model\n",
        "log_reg.fit(X_train, y_train)\n",
        "\n",
        "# Predict on the test set and the training set\n",
        "y_pred_test = log_reg.predict(X_test)\n",
        "y_pred_train = log_reg.predict(X_train)\n",
        "\n",
        "# Calculate accuracy for both sets\n",
        "accuracy_test = accuracy_score(y_test, y_pred_test)\n",
        "accuracy_train = accuracy_score(y_train, y_pred_train)\n",
        "print(f\"Training Accuracy: {accuracy_train}\")\n",
        "print(f\"Test Accuracy: {accuracy_test}\")\n",
        "\n",
        "# Additional metrics for test set\n",
        "print(\"Classification Report:\")\n",
        "print(classification_report(y_test, y_pred_test))\n",
        "\n",
        "print(\"Confusion Matrix:\")\n",
        "print(confusion_matrix(y_test, y_pred_test))"
      ],
      "metadata": {
        "colab": {
          "base_uri": "https://localhost:8080/"
        },
        "id": "LFhnJHKm4JIu",
        "outputId": "77d4143e-6e45-461d-d137-362ba73626f8"
      },
      "execution_count": null,
      "outputs": [
        {
          "output_type": "stream",
          "name": "stdout",
          "text": [
            "Training Accuracy: 0.6250754982887055\n",
            "Test Accuracy: 0.6289510771089188\n",
            "Classification Report:\n",
            "              precision    recall  f1-score   support\n",
            "\n",
            "           0       0.62      0.77      0.69     10536\n",
            "           1       0.64      0.47      0.54      9332\n",
            "\n",
            "    accuracy                           0.63     19868\n",
            "   macro avg       0.63      0.62      0.62     19868\n",
            "weighted avg       0.63      0.63      0.62     19868\n",
            "\n",
            "Confusion Matrix:\n",
            "[[8089 2447]\n",
            " [4925 4407]]\n"
          ]
        },
        {
          "output_type": "stream",
          "name": "stderr",
          "text": [
            "/usr/local/lib/python3.10/dist-packages/sklearn/linear_model/_logistic.py:458: ConvergenceWarning: lbfgs failed to converge (status=1):\n",
            "STOP: TOTAL NO. of ITERATIONS REACHED LIMIT.\n",
            "\n",
            "Increase the number of iterations (max_iter) or scale the data as shown in:\n",
            "    https://scikit-learn.org/stable/modules/preprocessing.html\n",
            "Please also refer to the documentation for alternative solver options:\n",
            "    https://scikit-learn.org/stable/modules/linear_model.html#logistic-regression\n",
            "  n_iter_i = _check_optimize_result(\n"
          ]
        }
      ]
    },
    {
      "cell_type": "markdown",
      "source": [
        "**RandomForestClassifier**"
      ],
      "metadata": {
        "id": "s0sLe0dV7vGD"
      }
    },
    {
      "cell_type": "code",
      "source": [
        "from sklearn.ensemble import RandomForestClassifier\n",
        "from sklearn.model_selection import train_test_split, GridSearchCV\n",
        "\n",
        "# -- select the parameter(s) to tune and the values to try\n",
        "tuned_parameters = [{\"min_samples_leaf\" : [1, 2, 5, 10, 15, 20, 30, 50, 100, 200]}]\n",
        "\n",
        "# -- perform Grid Search\n",
        "rd_tune = RandomForestClassifier(random_state=667)\n",
        "cv_tune = GridSearchCV(rd_tune, tuned_parameters)\n",
        "cv_tune.fit(X_train, y_train);\n"
      ],
      "metadata": {
        "id": "sT5OHVMd7ttW"
      },
      "execution_count": null,
      "outputs": []
    },
    {
      "cell_type": "code",
      "source": [
        "# \"Predict\" the training data\n",
        "y_pred_rf_train = cv_tune.predict(X_train)\n",
        "\n",
        "# \"Predict\" the test data\n",
        "y_pred_rf = cv_tune.predict(X_test)\n",
        "\n",
        "# Calculate accuracy for both sets\n",
        "accuracy_test_rf = accuracy_score(y_test, y_pred_test_rf)\n",
        "accuracy_train_rf = accuracy_score(y_train, y_pred_train_rf)\n",
        "\n",
        "accuracy_test_rf, accuracy_train_rf\n"
      ],
      "metadata": {
        "colab": {
          "base_uri": "https://localhost:8080/"
        },
        "id": "_vZOQOK58MEr",
        "outputId": "c0a037e3-1fdc-4a67-9a8d-1788b50c001b"
      },
      "execution_count": null,
      "outputs": [
        {
          "output_type": "execute_result",
          "data": {
            "text/plain": [
              "(0.6223072277028388, 0.9996099255083551)"
            ]
          },
          "metadata": {},
          "execution_count": 198
        }
      ]
    },
    {
      "cell_type": "markdown",
      "source": [
        "It is obvious that our random forest regressor model has the overfitting problem"
      ],
      "metadata": {
        "id": "xp_qLDHz-hR4"
      }
    },
    {
      "cell_type": "code",
      "source": [
        "# Retrieving feature importance for each model\n",
        "\n",
        "# K-Nearest Neighbors does not provide direct feature importance\n",
        "# Thus, we will only retrieve for Logistic Regression and Random Forest\n",
        "\n",
        "# Feature importance for Logistic Regression\n",
        "# Coefficients as feature importance\n",
        "logreg_importance = log_reg.coef_[0]\n",
        "\n",
        "# Feature importance for Random Forest\n",
        "# GridSearchCV object\n",
        "best_model = cv_tune.best_estimator_\n",
        "\n",
        "# Now you can access the feature_importances_ attribute (if the underlying model supports it)\n",
        "rf_importance = best_model.feature_importances_\n",
        "\n",
        "# Creating a DataFrame for better visualization\n",
        "feature_names = X.columns\n",
        "importance_df = pd.DataFrame({\n",
        "    'Feature': feature_names,\n",
        "    'Logistic Regression': logreg_importance,\n",
        "    'Random Forest': rf_importance\n",
        "})\n"
      ],
      "metadata": {
        "id": "5susf6q69GLo"
      },
      "execution_count": null,
      "outputs": []
    },
    {
      "cell_type": "code",
      "source": [
        "\n",
        "# Sorting the DataFrame for better visualization for Logistic Regression\n",
        "importance_df.sort_values(by='Logistic Regression', ascending=False, inplace=True)\n",
        "\n",
        "# Setting up the matplotlib figure\n",
        "plt.figure(figsize=(15, 10))\n",
        "\n",
        "# First subplot for Logistic Regression\n",
        "plt.subplot(1, 2, 1)\n",
        "sns.barplot(x='Logistic Regression', y='Feature', data=importance_df.head(10))\n",
        "plt.title('Top 10 Feature Importances in Logistic Regression')\n",
        "plt.xlabel('Coefficient Value')\n",
        "plt.ylabel('Feature')\n",
        "\n",
        "importance_df.sort_values(by='Random Forest', ascending=False, inplace=True)\n",
        "# Second subplot for Random Forest\n",
        "plt.subplot(1, 2, 2)\n",
        "sns.barplot(x='Random Forest', y='Feature', data=importance_df.head(10))\n",
        "plt.title('Top 10 Feature Importances in Random Forest')\n",
        "plt.xlabel('Importance')\n",
        "plt.ylabel('Feature')\n",
        "\n",
        "plt.tight_layout()\n",
        "plt.show()"
      ],
      "metadata": {
        "colab": {
          "base_uri": "https://localhost:8080/",
          "height": 756
        },
        "id": "03QJo-MG-uZi",
        "outputId": "d9e8c0bf-9a36-4bf3-cc4f-f9b59806831b"
      },
      "execution_count": null,
      "outputs": [
        {
          "output_type": "display_data",
          "data": {
            "text/plain": [
              "<Figure size 1500x1000 with 2 Axes>"
            ],
            "image/png": "[encoded data removed]"
          },
          "metadata": {}
        }
      ]
    },
    {
      "cell_type": "markdown",
      "source": [
        "After visualizing the results, I observed that the feature importance varies between each model. While the feature importance differs and the accuracy is not high, it's important to note that this is my initial attempt at evaluating Medicare data. With additional time and analysis, I plan to undertake the following steps:\""
      ],
      "metadata": {
        "id": "jZ5XnQqbF9Xc"
      }
    },
    {
      "cell_type": "markdown",
      "source": [
        "1. Select medical categorical features informed by a thorough literature review.\n",
        "2. Exclude features such as payer location for specific tests.\n",
        "3. Transition from using classification models to regression models, establishing a threshold for predictions.\n"
      ],
      "metadata": {
        "id": "ve5YVbzcGSAu"
      }
    },
    {
      "cell_type": "code",
      "source": [],
      "metadata": {
        "id": "Cv4SXN8xABUY"
      },
      "execution_count": null,
      "outputs": []
    }
  ]
}